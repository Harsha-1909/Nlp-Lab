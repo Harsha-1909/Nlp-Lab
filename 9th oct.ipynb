{
 "cells": [
  {
   "cell_type": "code",
   "execution_count": 1,
   "metadata": {},
   "outputs": [],
   "source": [
    "import spacy\n",
    "model = spacy.load('en_core_web_sm')"
   ]
  },
  {
   "cell_type": "code",
   "execution_count": 2,
   "metadata": {},
   "outputs": [
    {
     "name": "stdout",
     "output_type": "stream",
     "text": [
      "Vellore Institute of Technology ORG\n",
      "VIT PRODUCT\n",
      "Vellore GPE\n",
      "Tamil Nadu PERSON\n",
      "India GPE\n",
      "1984 DATE\n",
      "Vellore Engineering College ORG\n",
      "G. Viswanathan PERSON\n",
      "20 CARDINAL\n",
      "34 CARDINAL\n",
      "four CARDINAL\n",
      "four CARDINAL\n",
      "Vellore GPE\n",
      "Amravati PERSON\n",
      "Bhopal and Chennai ORG\n"
     ]
    }
   ],
   "source": [
    "text = 'Vellore Institute of Technology (VIT) is a private university located in Vellore, Tamil Nadu, India. Founded in 1984, as Vellore Engineering College, by G. Viswanathan, the institution offers 20 undergraduate, 34 postgraduate, four integrated and four research programs. It has campuses in Vellore, Amravati, Bhopal and Chennai.'\n",
    "doc = model(text)\n",
    "\n",
    "for ent in doc.ents:\n",
    "  print(ent.text, ent.label_)"
   ]
  },
  {
   "cell_type": "code",
   "execution_count": 3,
   "metadata": {},
   "outputs": [],
   "source": [
    "locs = [('Omnicom', 'IN', 'New York'),('DDB Needham', 'IN', 'New York'), ('Kaplan Thaler Group', 'IN', 'New York'),('BBDO South', 'IN', 'Atlanta'), ('Georgia-Pacific', 'IN', 'Atlanta')]"
   ]
  },
  {
   "cell_type": "code",
   "execution_count": 4,
   "metadata": {},
   "outputs": [],
   "source": [
    "query = [e1 for (e1, e2, e3) in locs if e3 == 'Atlanta']"
   ]
  },
  {
   "cell_type": "code",
   "execution_count": 5,
   "metadata": {},
   "outputs": [
    {
     "name": "stdout",
     "output_type": "stream",
     "text": [
      "['BBDO South', 'Georgia-Pacific']\n"
     ]
    }
   ],
   "source": [
    "print(query)"
   ]
  },
  {
   "cell_type": "code",
   "execution_count": 6,
   "metadata": {},
   "outputs": [
    {
     "name": "stdout",
     "output_type": "stream",
     "text": [
      "January 1996 DATE\n",
      "Larry Page PERSON\n",
      "Sergey Brin PERSON\n",
      "PhD WORK_OF_ART\n",
      "Stanford University ORG\n",
      "Stanford GPE\n",
      "California GPE\n"
     ]
    }
   ],
   "source": [
    "text = 'Google began in January 1996 as a research project by Larry Page and Sergey Brin when they were both PhD students at Stanford University in Stanford, California.'\n",
    "doc = model(text)\n",
    "\n",
    "for ent in doc.ents:\n",
    "  print(ent.text, ent.label_)"
   ]
  },
  {
   "cell_type": "code",
   "execution_count": 7,
   "metadata": {},
   "outputs": [
    {
     "name": "stdout",
     "output_type": "stream",
     "text": [
      "Ganges PERSON\n",
      "India GPE\n",
      "Asia LOC\n",
      "Himalayas ORG\n",
      "Taj Mahal PERSON\n"
     ]
    }
   ],
   "source": [
    "text = \"\"\"The Ganges is a holy river of India, a country in Asia. Himalayas is a long mountain range. \n",
    " Taj Mahal is one of the 7 wonders of the world. I have been working on my PhD\"\"\"\n",
    "\n",
    "doc5 = model(text)\n",
    "\n",
    "for ent in doc5.ents:\n",
    "  print(ent.text, ent.label_)"
   ]
  },
  {
   "cell_type": "code",
   "execution_count": null,
   "metadata": {},
   "outputs": [],
   "source": []
  }
 ],
 "metadata": {
  "kernelspec": {
   "display_name": "Python 3",
   "language": "python",
   "name": "python3"
  },
  "language_info": {
   "codemirror_mode": {
    "name": "ipython",
    "version": 3
   },
   "file_extension": ".py",
   "mimetype": "text/x-python",
   "name": "python",
   "nbconvert_exporter": "python",
   "pygments_lexer": "ipython3",
   "version": "3.7.6"
  }
 },
 "nbformat": 4,
 "nbformat_minor": 4
}
